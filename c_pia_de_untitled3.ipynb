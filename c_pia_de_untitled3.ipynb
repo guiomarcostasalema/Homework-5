{
  "nbformat": 4,
  "nbformat_minor": 0,
  "metadata": {
    "colab": {
      "provenance": []
    },
    "kernelspec": {
      "name": "python3",
      "display_name": "Python 3"
    },
    "language_info": {
      "name": "python"
    }
  },
  "cells": [
    {
      "cell_type": "markdown",
      "source": [
        "1-\tWhat are the industries with the highest number of accidents?"
      ],
      "metadata": {
        "id": "kA1E1D0jghF4"
      }
    },
    {
      "cell_type": "code",
      "source": [
        "import matplotlib.pyplot as plt"
      ],
      "metadata": {
        "id": "Z316NGtIp9tL"
      },
      "execution_count": null,
      "outputs": []
    },
    {
      "cell_type": "code",
      "source": [
        "industry_counts = accidents['Industry'].value_counts().head(10)\n",
        "plt.figure(figsize=(10, 6))\n",
        "industry_counts.plot(kind='bar')\n",
        "plt.xlabel('Industry')\n",
        "plt.ylabel('Number of accidents')\n",
        "plt.title('Top 10 Industries with the Highest Number of Accidents')\n",
        "plt.xticks(rotation=45)\n",
        "plt.show()"
      ],
      "metadata": {
        "id": "ZySMwqm4gpvp"
      },
      "execution_count": null,
      "outputs": []
    },
    {
      "cell_type": "markdown",
      "source": [
        "2-\tWhat is the total duration of licenses for each industry?"
      ],
      "metadata": {
        "id": "5nEsXugCgwhI"
      }
    },
    {
      "cell_type": "code",
      "source": [
        "import numpy as np"
      ],
      "metadata": {
        "id": "4_04gRulqFfk"
      },
      "execution_count": null,
      "outputs": []
    },
    {
      "cell_type": "code",
      "source": [
        "industry_license_duration = accidents.groupby('Industry')['License Duration'].sum().sort_values(ascending=False)\n",
        "plt.figure(figsize=(10, 6))\n",
        "industry_license_duration.plot(kind='bar')\n",
        "plt.xlabel('Industry')\n",
        "plt.ylabel('Total license duration (in days)')\n",
        "plt.title('Total License Duration by Industry')\n",
        "plt.xticks(rotation=45)\n",
        "plt.show()"
      ],
      "metadata": {
        "id": "MkUODuKWg0aZ"
      },
      "execution_count": null,
      "outputs": []
    },
    {
      "cell_type": "markdown",
      "source": [
        "3-\tWhat is the main type of accidents that occur?"
      ],
      "metadata": {
        "id": "Aksw1tpMg4mi"
      }
    },
    {
      "cell_type": "code",
      "source": [
        "accident_types = accidents['Accident Type'].value_counts().head(10)\n",
        "plt.figure(figsize=(10, 6))\n",
        "accident_types.plot(kind='bar')\n",
        "plt.xlabel('Accident Type')\n",
        "plt.ylabel('Number of accidents')\n",
        "plt.title('Top 10 Main Types of Accidents')\n",
        "plt.xticks(rotation=45)\n",
        "plt.show()"
      ],
      "metadata": {
        "id": "1qTGl8Dsg8kF"
      },
      "execution_count": null,
      "outputs": []
    },
    {
      "cell_type": "markdown",
      "source": [
        "4-\tWhat is the main reason for accidents?"
      ],
      "metadata": {
        "id": "RRPTXI9VhEw7"
      }
    },
    {
      "cell_type": "code",
      "source": [
        "accident_reasons = accidents['Accident Reason'].value_counts().head(10)\n",
        "plt.figure(figsize=(10, 6))\n",
        "accident_reasons.plot(kind='bar')\n",
        "plt.xlabel('Accident Reason')\n",
        "plt.ylabel('Number of accidents')\n",
        "plt.title('Top 10 Main Reasons for Accidents')\n",
        "plt.xticks(rotation=45)\n",
        "plt.show()"
      ],
      "metadata": {
        "id": "yMBgiTk0hI7A"
      },
      "execution_count": null,
      "outputs": []
    },
    {
      "cell_type": "markdown",
      "source": [
        "5-\tWhat is the distribution of accident severity levels?"
      ],
      "metadata": {
        "id": "-g3GK6jghPJj"
      }
    },
    {
      "cell_type": "code",
      "source": [
        "import matplotlib.pyplot as plt"
      ],
      "metadata": {
        "id": "ELLw4V8PqMGl"
      },
      "execution_count": null,
      "outputs": []
    },
    {
      "cell_type": "code",
      "source": [
        "severity_counts = accidents['Severity'].value_counts()\n",
        "plt.figure(figsize=(8, 6))\n",
        "severity_counts.plot(kind='bar')\n",
        "plt.xlabel('Severity Level')\n",
        "plt.ylabel('Number of accidents')\n",
        "plt.title('Distribution of Accident Severity Levels')\n",
        "plt.show()"
      ],
      "metadata": {
        "id": "kwpvZhuDhSwK"
      },
      "execution_count": null,
      "outputs": []
    },
    {
      "cell_type": "markdown",
      "source": [
        "6-\tWhat is the average age of employees involved in accidents for each industry?"
      ],
      "metadata": {
        "id": "PiUUoAanhWau"
      }
    },
    {
      "cell_type": "code",
      "source": [
        "import matplotlib.pyplot as plt"
      ],
      "metadata": {
        "id": "x1Lu93HwqP5V"
      },
      "execution_count": null,
      "outputs": []
    },
    {
      "cell_type": "code",
      "source": [
        "industry_avg_age = accidents.groupby('Industry')['Employee Age'].mean().sort_values(ascending=False)\n",
        "plt.figure(figsize=(10, 6))\n",
        "industry_avg_age.plot(kind='bar')\n",
        "plt.xlabel('Industry')\n",
        "plt.ylabel('Average Employee Age')\n",
        "plt.title('Average Age of Employees Involved in Accidents by Industry')\n",
        "plt.xticks(rotation=45)\n",
        "plt.show()"
      ],
      "metadata": {
        "id": "QHMIsKTdhaBC"
      },
      "execution_count": null,
      "outputs": []
    },
    {
      "cell_type": "markdown",
      "source": [
        "7-\tWhich months have the highest number of accidents?"
      ],
      "metadata": {
        "id": "lZfLc4bRhdJh"
      }
    },
    {
      "cell_type": "code",
      "source": [
        "import matplotlib.pyplot as plt"
      ],
      "metadata": {
        "id": "2QQTwIklqUHj"
      },
      "execution_count": null,
      "outputs": []
    },
    {
      "cell_type": "code",
      "source": [
        "accidents['Month'] = accidents['Date'].dt.month\n",
        "month_counts = accidents['Month'].value_counts().sort_index()\n",
        "plt.figure(figsize=(10, 6))\n",
        "month_counts.plot(kind='line', marker='o')\n",
        "plt.xlabel('Month')\n",
        "plt.ylabel('Number of accidents')\n",
        "plt.title('Number of Accidents by Month')\n",
        "plt.xticks(range(1, 13))\n",
        "plt.grid(True)\n",
        "plt.show()"
      ],
      "metadata": {
        "id": "2TPAueTyhgaG"
      },
      "execution_count": null,
      "outputs": []
    },
    {
      "cell_type": "markdown",
      "source": [
        "8-\tWhat are the most common body parts affected in accidents?"
      ],
      "metadata": {
        "id": "72ydhpRkhkJt"
      }
    },
    {
      "cell_type": "code",
      "source": [
        "import matplotlib.pyplot as plt\n"
      ],
      "metadata": {
        "id": "A9hW5qsSqYil"
      },
      "execution_count": null,
      "outputs": []
    },
    {
      "cell_type": "code",
      "source": [
        "body_parts = accidents['Body Part'].value_counts().head(10)\n",
        "plt.figure(figsize=(10, 6))\n",
        "body_parts.plot(kind='bar')\n",
        "plt.xlabel('Body Part')\n",
        "plt.ylabel('Number of accidents')\n",
        "plt.title('Top 10 Most Common Body Parts Affected in Accidents')\n",
        "plt.xticks(rotation=45)\n",
        "plt.show()"
      ],
      "metadata": {
        "id": "wG1Fmx73hoF7"
      },
      "execution_count": null,
      "outputs": []
    },
    {
      "cell_type": "markdown",
      "source": [
        "9-\tWhat is the distribution of accident outcomes?"
      ],
      "metadata": {
        "id": "jYLW1HO_hrek"
      }
    },
    {
      "cell_type": "code",
      "source": [
        "import matplotlib.pyplot as plt"
      ],
      "metadata": {
        "id": "9Qe-OttvqbrN"
      },
      "execution_count": null,
      "outputs": []
    },
    {
      "cell_type": "code",
      "source": [
        "outcome_counts = accidents['Outcome'].value_counts()\n",
        "plt.figure(figsize=(8, 6))\n",
        "outcome_counts.plot(kind='pie', autopct='%1.1f%%')\n",
        "plt.axis('equal')\n",
        "plt.title('Distribution of Accident Outcomes')\n",
        "plt.show()"
      ],
      "metadata": {
        "id": "Y-P_fvk7hvFv"
      },
      "execution_count": null,
      "outputs": []
    },
    {
      "cell_type": "code",
      "source": [
        "10-\tWhat are the most frequent sources of accidents?"
      ],
      "metadata": {
        "id": "PsW8TYwehy-C"
      },
      "execution_count": null,
      "outputs": []
    },
    {
      "cell_type": "code",
      "source": [
        "import matplotlib.pyplot as plt"
      ],
      "metadata": {
        "id": "pnJpR7myqlma"
      },
      "execution_count": null,
      "outputs": []
    },
    {
      "cell_type": "code",
      "source": [
        "accident_sources = accidents['Source'].value_counts().head(10)\n",
        "plt.figure(figsize=(10, 6))\n",
        "accident_sources.plot(kind='bar')\n",
        "plt.xlabel('Source')\n",
        "plt.ylabel('Number of accidents')\n",
        "plt.title('Top 10 Most Frequent Sources of Accidents')\n",
        "plt.xticks(rotation=45)\n",
        "plt.show()"
      ],
      "metadata": {
        "id": "WdCcwQK3qoHo"
      },
      "execution_count": null,
      "outputs": []
    }
  ]
}